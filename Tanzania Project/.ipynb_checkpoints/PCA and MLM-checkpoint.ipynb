{
 "cells": [
  {
   "cell_type": "code",
   "execution_count": 13,
   "metadata": {
    "collapsed": false
   },
   "outputs": [],
   "source": [
    "#Importing Libraries\n",
    "\n",
    "import pandas as pd\n",
    "from sklearn import metrics\n",
    "from sklearn.preprocessing import scale\n",
    "import numpy as np\n",
    "import warnings\n",
    "warnings.filterwarnings('ignore')\n",
    "from sklearn.decomposition import PCA\n",
    "from sklearn.preprocessing import scale\n",
    "import statsmodels.api as sm\n",
    "import statsmodels.formula.api as smf"
   ]
  },
  {
   "cell_type": "code",
   "execution_count": 4,
   "metadata": {
    "collapsed": false
   },
   "outputs": [
    {
     "data": {
      "text/plain": [
       "array(['region', 'amount_tsh', 'funder', 'gps_height', 'installer',\n",
       "       'longitude', 'latitude', 'wpt_name', 'num_private', 'basin', 'lga',\n",
       "       'population', 'public_meeting', 'scheme_management', 'permit',\n",
       "       'extraction_type_class', 'management', 'payment', 'water_quality',\n",
       "       'quantity', 'source', 'source_class', 'waterpoint_type',\n",
       "       'waterpoint_type_group', 'age', 'loc_type', 'employment_rate',\n",
       "       'popdeath_rate', 'status_group', 'crime_rating'], dtype=object)"
      ]
     },
     "execution_count": 4,
     "metadata": {},
     "output_type": "execute_result"
    }
   ],
   "source": [
    "### Data preprocessing\n",
    "train = pd.read_csv(\"Data/data_train_pre.csv\", )\n",
    "test = pd.read_csv(\"Data/data_test_pre.csv\", )\n",
    "\n",
    "train[train['scheme_management']==\"None\"]['scheme_management'] = \"unknown\"\n",
    "test[test['scheme_management']==\"None\"]['scheme_management'] = \"unknown\"\n",
    "train=train.drop('extraction_type',axis=1,inplace=False)\n",
    "\n",
    "test=test.drop('extraction_type',axis=1,inplace=False)\n",
    "train=train.drop(['Unnamed: 0','date_recorded','quality_group','quantity_group', 'management_group','source_type','management_group','extraction_type_group',\n",
    "                  'district_code','region_code','payment_type','scheme_name'],axis=1,inplace=False)\n",
    "test=test.drop(['Unnamed: 0','date_recorded','quality_group','quantity_group', 'management_group','source_type','management_group','extraction_type_group',\n",
    "                  'district_code','region_code','payment_type','scheme_name'],axis=1,inplace=False)\n",
    "count=train['status_group'].value_counts()\n",
    "\n",
    "count\n",
    "\n",
    "train.columns.values"
   ]
  },
  {
   "cell_type": "code",
   "execution_count": 9,
   "metadata": {
    "collapsed": false
   },
   "outputs": [
    {
     "data": {
      "text/plain": [
       "14850"
      ]
     },
     "execution_count": 9,
     "metadata": {},
     "output_type": "execute_result"
    }
   ],
   "source": [
    "# creating train (train_s1) and hold out data set (holdout) and Test (train_s2)\n",
    "import random\n",
    "length=len(train)\n",
    "rows = random.sample(train.index, length/2)\n",
    "train_s1 = train.ix[rows]\n",
    "count=train_s1['status_group'].value_counts()\n",
    "train_s3 = train.drop(rows)\n",
    "length=len(train_s3)\n",
    "rows = random.sample(train_s3.index, length/2)\n",
    "train_s2 = train_s3.ix[rows]\n",
    "holdout=train_s3.drop(rows)\n",
    "\n",
    "\n",
    "\n",
    "\n",
    "\n",
    "count\n",
    "len(train_s2)\n"
   ]
  },
  {
   "cell_type": "code",
   "execution_count": 54,
   "metadata": {
    "collapsed": false
   },
   "outputs": [
    {
     "data": {
      "text/plain": [
       "14850"
      ]
     },
     "execution_count": 54,
     "metadata": {},
     "output_type": "execute_result"
    }
   ],
   "source": []
  },
  {
   "cell_type": "code",
   "execution_count": 218,
   "metadata": {
    "collapsed": false
   },
   "outputs": [
    {
     "data": {
      "text/plain": [
       "functional                 5070\n",
       "non functional             3558\n",
       "functional needs repair    2157\n",
       "dtype: int64"
      ]
     },
     "execution_count": 218,
     "metadata": {},
     "output_type": "execute_result"
    }
   ],
   "source": [
    "# writing the downsampling fucntion\n",
    "def dnsmpl(xtrain,count,p):\n",
    "    train=xtrain\n",
    "    positive=count['functional needs repair']\n",
    "    negative=int(positive*((1-p)/p))\n",
    "    train_0=train[train['status_group']<>'functional needs repair']\n",
    "    train_1=train[train['status_group']=='functional needs repair']\n",
    "    train_0_down_sampled = train_0.sample( negative)\n",
    "    train_final=train_1.append(train_0_down_sampled)\n",
    "    return(train_final)\n",
    "\n",
    "#test y\n",
    "y=train_s2['status_group']\n",
    "y_binary=pd.get_dummies(y)\n",
    "y_bin=y_binary['functional needs repair']\n",
    "train_s2_dum=pd.get_dummies(train_s2)\n",
    "\n",
    "train1=train_s1.drop('status_group',axis=1,inplace=False)\n",
    "\n",
    "\n",
    "\n",
    "x=dnsmpl(train_s1,count,0.20)\n",
    "x['status_group'].value_counts()"
   ]
  },
  {
   "cell_type": "code",
   "execution_count": null,
   "metadata": {
    "collapsed": false
   },
   "outputs": [],
   "source": []
  },
  {
   "cell_type": "markdown",
   "metadata": {},
   "source": [
    "# PCA"
   ]
  },
  {
   "cell_type": "code",
   "execution_count": 209,
   "metadata": {
    "collapsed": false
   },
   "outputs": [],
   "source": [
    "train1 = train1.drop('region',axis = 1)\n"
   ]
  },
  {
   "cell_type": "code",
   "execution_count": null,
   "metadata": {
    "collapsed": false
   },
   "outputs": [],
   "source": []
  },
  {
   "cell_type": "code",
   "execution_count": 213,
   "metadata": {
    "collapsed": false
   },
   "outputs": [
    {
     "name": "stdout",
     "output_type": "stream",
     "text": [
      "251\n"
     ]
    }
   ],
   "source": [
    "### PCA\n",
    "train_dum=pd.get_dummies(train1)\n",
    "test_dum=pd.get_dummies(test)\n",
    "columns=test_dum.columns.values\n",
    "columns1=train_dum.columns.values\n",
    "columns2=set(columns).intersection(columns1)\n",
    "train_dum=train_dum[list(columns2)]\n",
    "test_dum=test_dum[list(columns2)]\n",
    "print len(columns2)\n",
    "train_dum_scale=scale(train_dum)\n",
    "test_dum_scale=scale(test_dum)\n",
    "pca = PCA(n_components=100)\n",
    "pca_fit=pca.fit(train_dum_scale)\n",
    "train_pca=pca_fit.transform(train_dum_scale)\n",
    "test_pca=pca_fit.transform(test_dum_scale)\n",
    "pca.explained_variance_ratio_ \n",
    "train_pca=np.matrix(train_pca)\n",
    "train_pca=pd.DataFrame(train_pca)\n",
    "test_pca=np.matrix(test_pca)\n",
    "test_pca=pd.DataFrame(test_pca)"
   ]
  },
  {
   "cell_type": "code",
   "execution_count": 214,
   "metadata": {
    "collapsed": false
   },
   "outputs": [],
   "source": [
    "\n",
    "train1y=train_s1['status_group']\n",
    "train1y_bins=pd.get_dummies(train1y)\n",
    "train1y_binary = train1y_bins['functional needs repair']"
   ]
  },
  {
   "cell_type": "code",
   "execution_count": 215,
   "metadata": {
    "collapsed": false
   },
   "outputs": [
    {
     "data": {
      "text/plain": [
       "6187     0\n",
       "47754    0\n",
       "47780    1\n",
       "36973    0\n",
       "7215     0\n",
       "51151    1\n",
       "Name: functional needs repair, dtype: float64"
      ]
     },
     "execution_count": 215,
     "metadata": {},
     "output_type": "execute_result"
    }
   ],
   "source": [
    "train1y_binary[:6]"
   ]
  },
  {
   "cell_type": "code",
   "execution_count": 227,
   "metadata": {
    "collapsed": false
   },
   "outputs": [
    {
     "data": {
      "text/plain": [
       "array(['Iringa', 'Mbeya', 'Mbeya', ..., 'Tabora', 'Shinyanga', 'Shinyanga'], dtype=object)"
      ]
     },
     "execution_count": 227,
     "metadata": {},
     "output_type": "execute_result"
    }
   ],
   "source": [
    "train_s1['region'].values"
   ]
  },
  {
   "cell_type": "code",
   "execution_count": 240,
   "metadata": {
    "collapsed": false
   },
   "outputs": [],
   "source": [
    "names = ['pc1', 'pc2', 'pc3', 'pc4', 'pc5', 'pc6', 'pc7', 'pc8', 'pc9', 'pc10','status_group', 'region']\n",
    "x_names = ['pc1', 'pc2', 'pc3', 'pc4', 'pc5', 'pc6', 'pc7', 'pc8', 'pc9', 'pc10', 'region']\n",
    "#water01train = pd.concat([a['functional needs repair'],train_pca.iloc[:,0:10]], axis = 1, ignore_index = True)\n",
    "#water01train = pd.merge(a,train_pca.iloc[:,0:10], on= )\n",
    "train_pca['status_group'] = train1y_binary.values\n",
    "train_pca['region'] = train_s1['region'].values\n",
    "test_pca['region'] = train_s2['region'].values\n",
    "water01train = train_pca.loc[:,[0,1,2,3,4,5,6,7,8,9,'status_group','region']]\n",
    "water01train.columns = names\n",
    "water01holdout_x = test_pca.loc[:,[0,1,2,3,4,5,6,7,8,9,'region']]\n",
    "water01holdout_x.columns = x_names"
   ]
  },
  {
   "cell_type": "code",
   "execution_count": 241,
   "metadata": {
    "collapsed": false
   },
   "outputs": [
    {
     "data": {
      "text/html": [
       "<div>\n",
       "<table border=\"1\" class=\"dataframe\">\n",
       "  <thead>\n",
       "    <tr style=\"text-align: right;\">\n",
       "      <th></th>\n",
       "      <th>pc1</th>\n",
       "      <th>pc2</th>\n",
       "      <th>pc3</th>\n",
       "      <th>pc4</th>\n",
       "      <th>pc5</th>\n",
       "      <th>pc6</th>\n",
       "      <th>pc7</th>\n",
       "      <th>pc8</th>\n",
       "      <th>pc9</th>\n",
       "      <th>pc10</th>\n",
       "      <th>region</th>\n",
       "    </tr>\n",
       "  </thead>\n",
       "  <tbody>\n",
       "    <tr>\n",
       "      <th>0</th>\n",
       "      <td>3.666705</td>\n",
       "      <td>0.268024</td>\n",
       "      <td>1.333375</td>\n",
       "      <td>-0.109285</td>\n",
       "      <td>-0.524446</td>\n",
       "      <td>2.726273</td>\n",
       "      <td>-0.891415</td>\n",
       "      <td>-0.798753</td>\n",
       "      <td>-1.044141</td>\n",
       "      <td>-0.981819</td>\n",
       "      <td>Kigoma</td>\n",
       "    </tr>\n",
       "    <tr>\n",
       "      <th>1</th>\n",
       "      <td>3.041574</td>\n",
       "      <td>-0.013271</td>\n",
       "      <td>-1.949048</td>\n",
       "      <td>0.318884</td>\n",
       "      <td>3.985971</td>\n",
       "      <td>-0.346055</td>\n",
       "      <td>-0.729784</td>\n",
       "      <td>-1.147758</td>\n",
       "      <td>0.349691</td>\n",
       "      <td>0.019928</td>\n",
       "      <td>Mbeya</td>\n",
       "    </tr>\n",
       "    <tr>\n",
       "      <th>2</th>\n",
       "      <td>3.701646</td>\n",
       "      <td>-0.155036</td>\n",
       "      <td>0.761051</td>\n",
       "      <td>-0.430093</td>\n",
       "      <td>1.309569</td>\n",
       "      <td>1.098686</td>\n",
       "      <td>0.081737</td>\n",
       "      <td>-1.283052</td>\n",
       "      <td>-0.457834</td>\n",
       "      <td>-0.195730</td>\n",
       "      <td>Iringa</td>\n",
       "    </tr>\n",
       "    <tr>\n",
       "      <th>3</th>\n",
       "      <td>0.549247</td>\n",
       "      <td>-0.348886</td>\n",
       "      <td>1.888424</td>\n",
       "      <td>0.662245</td>\n",
       "      <td>-0.373116</td>\n",
       "      <td>-0.449559</td>\n",
       "      <td>-2.184206</td>\n",
       "      <td>-0.527851</td>\n",
       "      <td>-0.431154</td>\n",
       "      <td>-0.018507</td>\n",
       "      <td>Mwanza</td>\n",
       "    </tr>\n",
       "    <tr>\n",
       "      <th>4</th>\n",
       "      <td>3.199873</td>\n",
       "      <td>0.581616</td>\n",
       "      <td>-1.242400</td>\n",
       "      <td>0.336622</td>\n",
       "      <td>3.860723</td>\n",
       "      <td>-0.463371</td>\n",
       "      <td>-0.882661</td>\n",
       "      <td>-1.133755</td>\n",
       "      <td>-0.271246</td>\n",
       "      <td>-0.090784</td>\n",
       "      <td>Kagera</td>\n",
       "    </tr>\n",
       "    <tr>\n",
       "      <th>5</th>\n",
       "      <td>2.811904</td>\n",
       "      <td>-2.070088</td>\n",
       "      <td>5.520357</td>\n",
       "      <td>-4.054523</td>\n",
       "      <td>-1.755904</td>\n",
       "      <td>0.660342</td>\n",
       "      <td>-4.529408</td>\n",
       "      <td>-4.259834</td>\n",
       "      <td>6.117628</td>\n",
       "      <td>-1.201643</td>\n",
       "      <td>Mtwara</td>\n",
       "    </tr>\n",
       "  </tbody>\n",
       "</table>\n",
       "</div>"
      ],
      "text/plain": [
       "        pc1       pc2       pc3       pc4       pc5       pc6       pc7  \\\n",
       "0  3.666705  0.268024  1.333375 -0.109285 -0.524446  2.726273 -0.891415   \n",
       "1  3.041574 -0.013271 -1.949048  0.318884  3.985971 -0.346055 -0.729784   \n",
       "2  3.701646 -0.155036  0.761051 -0.430093  1.309569  1.098686  0.081737   \n",
       "3  0.549247 -0.348886  1.888424  0.662245 -0.373116 -0.449559 -2.184206   \n",
       "4  3.199873  0.581616 -1.242400  0.336622  3.860723 -0.463371 -0.882661   \n",
       "5  2.811904 -2.070088  5.520357 -4.054523 -1.755904  0.660342 -4.529408   \n",
       "\n",
       "        pc8       pc9      pc10  region  \n",
       "0 -0.798753 -1.044141 -0.981819  Kigoma  \n",
       "1 -1.147758  0.349691  0.019928   Mbeya  \n",
       "2 -1.283052 -0.457834 -0.195730  Iringa  \n",
       "3 -0.527851 -0.431154 -0.018507  Mwanza  \n",
       "4 -1.133755 -0.271246 -0.090784  Kagera  \n",
       "5 -4.259834  6.117628 -1.201643  Mtwara  "
      ]
     },
     "execution_count": 241,
     "metadata": {},
     "output_type": "execute_result"
    }
   ],
   "source": [
    "water01holdout_x[:6]"
   ]
  },
  {
   "cell_type": "code",
   "execution_count": 144,
   "metadata": {
    "collapsed": true
   },
   "outputs": [],
   "source": [
    "?pd.DataFrame"
   ]
  },
  {
   "cell_type": "code",
   "execution_count": 231,
   "metadata": {
    "collapsed": false
   },
   "outputs": [
    {
     "name": "stdout",
     "output_type": "stream",
     "text": [
      "           Mixed Linear Model Regression Results\n",
      "==========================================================\n",
      "Model:            MixedLM Dependent Variable: status_group\n",
      "No. Observations: 29700   Method:             REML        \n",
      "No. Groups:       21      Scale:              0.0651      \n",
      "Min. group size:  419     Likelihood:         -1629.2041  \n",
      "Max. group size:  2627    Converged:          Yes         \n",
      "Mean group size:  1414.3                                  \n",
      "----------------------------------------------------------\n",
      "                 Coef. Std.Err.   z    P>|z| [0.025 0.975]\n",
      "----------------------------------------------------------\n",
      "Intercept        0.068    0.011  6.457 0.000  0.047  0.089\n",
      "pc1              0.009    0.001 13.257 0.000  0.008  0.011\n",
      "Intercept RE     0.002    0.003                           \n",
      "==========================================================\n",
      "\n"
     ]
    },
    {
     "name": "stderr",
     "output_type": "stream",
     "text": [
      "/Users/julianghadially/anaconda/lib/python2.7/site-packages/statsmodels/regression/mixed_linear_model.py:1717: ConvergenceWarning: The MLE may be on the boundary of the parameter space.\n",
      "  warnings.warn(msg, ConvergenceWarning)\n"
     ]
    }
   ],
   "source": [
    "md = smf.mixedlm('status_group ~ pc1', data = water01train, groups = water01train['region']) \n",
    "md_fit = md.fit()\n",
    "print(md_fit.summary())"
   ]
  },
  {
   "cell_type": "code",
   "execution_count": 250,
   "metadata": {
    "collapsed": false
   },
   "outputs": [
    {
     "ename": "NotImplementedError",
     "evalue": "",
     "output_type": "error",
     "traceback": [
      "\u001b[0;31m---------------------------------------------------------------------------\u001b[0m",
      "\u001b[0;31mNotImplementedError\u001b[0m                       Traceback (most recent call last)",
      "\u001b[0;32m<ipython-input-250-0df58ce83cd3>\u001b[0m in \u001b[0;36m<module>\u001b[0;34m()\u001b[0m\n\u001b[1;32m      1\u001b[0m \u001b[0;34m\u001b[0m\u001b[0m\n\u001b[0;32m----> 2\u001b[0;31m \u001b[0myhat\u001b[0m \u001b[0;34m=\u001b[0m \u001b[0mmd_fit\u001b[0m\u001b[0;34m.\u001b[0m\u001b[0mpredict\u001b[0m\u001b[0;34m(\u001b[0m\u001b[0mwater01holdout_x\u001b[0m\u001b[0;34m[\u001b[0m\u001b[0;34m[\u001b[0m\u001b[0;34m'pc1'\u001b[0m\u001b[0;34m,\u001b[0m\u001b[0;34m'region'\u001b[0m\u001b[0;34m]\u001b[0m\u001b[0;34m]\u001b[0m\u001b[0;34m)\u001b[0m\u001b[0;34m\u001b[0m\u001b[0m\n\u001b[0m",
      "\u001b[0;32m/Users/julianghadially/anaconda/lib/python2.7/site-packages/statsmodels/base/model.pyc\u001b[0m in \u001b[0;36mpredict\u001b[0;34m(self, exog, transform, *args, **kwargs)\u001b[0m\n\u001b[1;32m    747\u001b[0m             \u001b[0mexog\u001b[0m \u001b[0;34m=\u001b[0m \u001b[0mnp\u001b[0m\u001b[0;34m.\u001b[0m\u001b[0matleast_2d\u001b[0m\u001b[0;34m(\u001b[0m\u001b[0mexog\u001b[0m\u001b[0;34m)\u001b[0m  \u001b[0;31m# needed in count model shape[1]\u001b[0m\u001b[0;34m\u001b[0m\u001b[0m\n\u001b[1;32m    748\u001b[0m \u001b[0;34m\u001b[0m\u001b[0m\n\u001b[0;32m--> 749\u001b[0;31m         \u001b[0;32mreturn\u001b[0m \u001b[0mself\u001b[0m\u001b[0;34m.\u001b[0m\u001b[0mmodel\u001b[0m\u001b[0;34m.\u001b[0m\u001b[0mpredict\u001b[0m\u001b[0;34m(\u001b[0m\u001b[0mself\u001b[0m\u001b[0;34m.\u001b[0m\u001b[0mparams\u001b[0m\u001b[0;34m,\u001b[0m \u001b[0mexog\u001b[0m\u001b[0;34m,\u001b[0m \u001b[0;34m*\u001b[0m\u001b[0margs\u001b[0m\u001b[0;34m,\u001b[0m \u001b[0;34m**\u001b[0m\u001b[0mkwargs\u001b[0m\u001b[0;34m)\u001b[0m\u001b[0;34m\u001b[0m\u001b[0m\n\u001b[0m\u001b[1;32m    750\u001b[0m \u001b[0;34m\u001b[0m\u001b[0m\n\u001b[1;32m    751\u001b[0m \u001b[0;34m\u001b[0m\u001b[0m\n",
      "\u001b[0;32m/Users/julianghadially/anaconda/lib/python2.7/site-packages/statsmodels/base/model.pyc\u001b[0m in \u001b[0;36mpredict\u001b[0;34m(self, params, exog, *args, **kwargs)\u001b[0m\n\u001b[1;32m    175\u001b[0m         \u001b[0mThis\u001b[0m \u001b[0;32mis\u001b[0m \u001b[0ma\u001b[0m \u001b[0mplaceholder\u001b[0m \u001b[0mintended\u001b[0m \u001b[0mto\u001b[0m \u001b[0mbe\u001b[0m \u001b[0moverwritten\u001b[0m \u001b[0mby\u001b[0m \u001b[0mindividual\u001b[0m \u001b[0mmodels\u001b[0m\u001b[0;34m.\u001b[0m\u001b[0;34m\u001b[0m\u001b[0m\n\u001b[1;32m    176\u001b[0m         \"\"\"\n\u001b[0;32m--> 177\u001b[0;31m         \u001b[0;32mraise\u001b[0m \u001b[0mNotImplementedError\u001b[0m\u001b[0;34m\u001b[0m\u001b[0m\n\u001b[0m\u001b[1;32m    178\u001b[0m \u001b[0;34m\u001b[0m\u001b[0m\n\u001b[1;32m    179\u001b[0m \u001b[0;34m\u001b[0m\u001b[0m\n",
      "\u001b[0;31mNotImplementedError\u001b[0m: "
     ]
    }
   ],
   "source": [
    "\n",
    "yhat = md_fit.predict(water01holdout_x[['pc1','region']])"
   ]
  },
  {
   "cell_type": "code",
   "execution_count": 253,
   "metadata": {
    "collapsed": false
   },
   "outputs": [
    {
     "data": {
      "text/plain": [
       "0    0.102747\n",
       "1    0.096850\n",
       "2    0.103077\n",
       "3    0.073339\n",
       "4    0.098343\n",
       "5    0.094684\n",
       "Name: pc1, dtype: float64"
      ]
     },
     "execution_count": 253,
     "metadata": {},
     "output_type": "execute_result"
    }
   ],
   "source": [
    "coefs = md_fit.fe_params\n",
    "yhat = coefs[0] + coefs[1]*water01holdout_x['pc1']\n",
    "yhat[:6]"
   ]
  },
  {
   "cell_type": "code",
   "execution_count": null,
   "metadata": {
    "collapsed": true
   },
   "outputs": [],
   "source": []
  }
 ],
 "metadata": {
  "kernelspec": {
   "display_name": "Python 2",
   "language": "python",
   "name": "python2"
  },
  "language_info": {
   "codemirror_mode": {
    "name": "ipython",
    "version": 2
   },
   "file_extension": ".py",
   "mimetype": "text/x-python",
   "name": "python",
   "nbconvert_exporter": "python",
   "pygments_lexer": "ipython2",
   "version": "2.7.10"
  }
 },
 "nbformat": 4,
 "nbformat_minor": 0
}
