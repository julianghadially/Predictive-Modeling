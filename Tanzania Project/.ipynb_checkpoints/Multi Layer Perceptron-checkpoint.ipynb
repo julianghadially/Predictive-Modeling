{
 "cells": [
  {
   "cell_type": "code",
   "execution_count": 1,
   "metadata": {
    "collapsed": true
   },
   "outputs": [],
   "source": [
    "###importing the library\n",
    "import pandas as pd\n",
    "from sklearn import metrics\n",
    "from sklearn.preprocessing import scale\n",
    "from sklearn.ensemble import RandomForestClassifier\n",
    "import numpy as np\n",
    "import warnings\n",
    "warnings.filterwarnings('ignore')\n",
    "from sknn.mlp import Classifier, Layer"
   ]
  },
  {
   "cell_type": "code",
   "execution_count": 10,
   "metadata": {
    "collapsed": false
   },
   "outputs": [],
   "source": [
    "##### preprocessin the data set\n",
    "train = pd.read_csv(\"Data/data_train_pre.csv\", )\n",
    "test = pd.read_csv(\"Data/data_test_pre.csv\", )\n",
    "\n",
    "train[train['scheme_management']==\"None\"]['scheme_management'] = \"unknown\"\n",
    "test[test['scheme_management']==\"None\"]['scheme_management'] = \"unknown\"\n",
    "train=train.drop('extraction_type',axis=1,inplace=False)\n",
    "\n",
    "test=test.drop('extraction_type',axis=1,inplace=False)\n",
    "train=train.drop(['Unnamed: 0','id','date_recorded','quality_group','quantity_group', 'management_group','source_type','management_group','extraction_type_group',\n",
    "                  'district_code','region_code','payment_type','scheme_name'],axis=1,inplace=False)\n",
    "test=test.drop(['Unnamed: 0','date_recorded','quality_group','quantity_group', 'management_group','source_type','management_group','extraction_type_group',\n",
    "                  'district_code','region_code','payment_type','scheme_name'],axis=1,inplace=False)\n",
    "\n",
    "\n",
    "import random\n",
    "length=len(train)\n",
    "rows = random.sample(train.index, length/2)\n",
    "train_s1 = train.ix[rows]\n",
    "y_s1=train_s1['status_group']\n",
    "train_s1=train_s1.drop('status_group',axis=1,inplace=False)\n",
    "\n",
    "train_s2 = train.drop(rows)\n",
    "y_s2=train_s2['status_group']\n",
    "train_s2=train_s2.drop('status_group',axis=1,inplace=False)\n",
    "\n",
    "train_dum=pd.get_dummies(train_s1)\n",
    "test_dum=pd.get_dummies(train_s2)\n",
    "columns=test_dum.columns.values\n",
    "columns1=train_dum.columns.values\n",
    "columns2=set(columns).intersection(columns1)\n",
    "train_dum=train_dum[list(columns2)]\n",
    "test_dum=test_dum[list(columns2)]"
   ]
  },
  {
   "cell_type": "code",
   "execution_count": 11,
   "metadata": {
    "collapsed": false
   },
   "outputs": [
    {
     "name": "stdout",
     "output_type": "stream",
     "text": [
      "275\n"
     ]
    }
   ],
   "source": [
    "### Applying PCA and then performing deep learning\n",
    "from sklearn.decomposition import PCA\n",
    "from sklearn.preprocessing import scale\n",
    "print len(columns2)\n",
    "train_dum_scale=scale(train_dum)\n",
    "test_dum_scale=scale(test_dum)\n",
    "pca = PCA(n_components=100)\n",
    "pca_fit=pca.fit(train_dum_scale)\n",
    "train_pca=pca_fit.transform(train_dum_scale)\n",
    "test_pca=pca_fit.transform(test_dum_scale)\n",
    "pca.explained_variance_ratio_ \n",
    "\n",
    "train_pca=np.matrix(train_pca)\n",
    "#train_pca=pd.DataFrame(train_pca)\n",
    "test_pca=np.matrix(test_pca)\n",
    "#test_pca=pd.DataFrame(test_pca)"
   ]
  },
  {
   "cell_type": "code",
   "execution_count": 7,
   "metadata": {
    "collapsed": false
   },
   "outputs": [
    {
     "data": {
      "text/plain": [
       "Classifier(batch_size=1, debug=False, dropout_rate=None, f_stable=0.001,\n",
       "      hidden0=<sknn.nn.Layer `Sigmoid`: name=u'hidden0', units=5>,\n",
       "      layers=[<sknn.nn.Layer `Sigmoid`: name=u'hidden0', units=5>, <sknn.nn.Layer `Softmax`: name=u'output', units=3L>],\n",
       "      learning_momentum=0.9, learning_rate=0.01, learning_rule=u'sgd',\n",
       "      loss_type=u'mse', mutator=None, n_iter=10, n_stable=50,\n",
       "      output=<sknn.nn.Layer `Softmax`: name=u'output', units=3L>,\n",
       "      random_state=None, regularize=None, valid_set=None, valid_size=0.0,\n",
       "      verbose=None, weight_decay=None)"
      ]
     },
     "execution_count": 7,
     "metadata": {},
     "output_type": "execute_result"
    }
   ],
   "source": [
    "##check MLP classifier\n",
    "mlp_ann= Classifier(layers=[Layer(\"Sigmoid\", units=5), Layer(\"Softmax\")],learning_rate=0.01,n_iter=10)\n",
    "mlp_ann.fit(train_pca,y_s1)"
   ]
  },
  {
   "cell_type": "code",
   "execution_count": 9,
   "metadata": {
    "collapsed": false
   },
   "outputs": [
    {
     "name": "stdout",
     "output_type": "stream",
     "text": [
      "Epochs :100 , Nodes 20 :  0.714378522942\n",
      "[[14171  1551  3766]\n",
      " [   46   105    38]\n",
      " [ 1904   445  7674]]\n"
     ]
    }
   ],
   "source": [
    "##check results\n",
    "y_hat = mlp_ann.predict(test_pca)\n",
    "from sklearn.metrics import confusion_matrix\n",
    "from sklearn.metrics import f1_score\n",
    "print \"Epochs :100 , Nodes 20 : \", f1_score(y_true= y_s2,y_pred= y_hat,pos_label=None) \n",
    "cm = confusion_matrix(y_hat, y_s2)\n",
    "print(cm)"
   ]
  },
  {
   "cell_type": "markdown",
   "metadata": {},
   "source": [
    "Epochs :100 , Nodes 5 :  0.722529666085\n",
    "Epochs :100 , Nodes 20 :  0.752529666085\n",
    "Epochs :100 , Nodes 30 :  0.754329666085  "
   ]
  },
  {
   "cell_type": "code",
   "execution_count": 19,
   "metadata": {
    "collapsed": false
   },
   "outputs": [
    {
     "name": "stdout",
     "output_type": "stream",
     "text": [
      "Epochs :100 , Nodes 20 :  0.752529666085 0.764107744108\n",
      "[[14286  1322  3464]\n",
      " [  314   524   203]\n",
      " [ 1379   324  7884]]\n",
      "Epochs :100 , Nodes 20 :  0.752122161483 0.766094276094\n",
      "[[14351  1365  3454]\n",
      " [  240   441   136]\n",
      " [ 1388   364  7961]]\n",
      "Epochs :100 , Nodes 20 :  0.750811207256 0.763569023569\n",
      "[[14439  1353  3637]\n",
      " [  318   496   171]\n",
      " [ 1222   321  7743]]\n",
      "Epochs :100 , Nodes 20 :  0.75221126391 0.759696969697\n",
      "[[13759  1168  3092]\n",
      " [  481   616   271]\n",
      " [ 1739   386  8188]]\n",
      "Epochs :100 , Nodes 20 :  0.752011915423 0.762390572391\n",
      "[[14070  1281  3288]\n",
      " [  350   538   228]\n",
      " [ 1559   351  8035]]\n",
      "Epochs :100 , Nodes 20 :  0.750824189246 0.761481481481\n",
      "[[13642  1222  2887]\n",
      " [  314   483   173]\n",
      " [ 2023   465  8491]]\n",
      "Epochs :100 , Nodes 20 :  0.749600885796 0.758383838384\n",
      "[[13735  1218  3078]\n",
      " [  399   563   247]\n",
      " [ 1845   389  8226]]\n"
     ]
    }
   ],
   "source": [
    "##finding the ideal # of epochs\n",
    "f1_score=[]  \n",
    "for p in xrange(20,90,10):\n",
    "\n",
    "    mlp_ann= Classifier(layers=[Layer(\"Sigmoid\", units=20), Layer(\"Softmax\")],learning_rate=0.01,n_iter=p)\n",
    "    mlp_ann.fit(train_dum_scale,y_s1)\n",
    "    \n",
    "    y_hat = mlp_ann.predict(test_dum_scale)\n",
    "    from sklearn.metrics import confusion_matrix\n",
    "    from sklearn.metrics import f1_score\n",
    "    print \"Epochs :100 , Nodes 20 : \", f1_score(y_true= y_s2,y_pred= y_hat,pos_label=None) ,metrics.accuracy_score(y_true= y_s2,y_pred= y_hat)\n",
    "    cm = confusion_matrix(y_hat, y_s2)\n",
    "    print(cm)"
   ]
  },
  {
   "cell_type": "code",
   "execution_count": null,
   "metadata": {
    "collapsed": true
   },
   "outputs": [],
   "source": [
    "      "
   ]
  },
  {
   "cell_type": "code",
   "execution_count": 18,
   "metadata": {
    "collapsed": false
   },
   "outputs": [
    {
     "name": "stdout",
     "output_type": "stream",
     "text": [
      " Epochs :100 , Nodes 20 :  0.76771043771\n"
     ]
    }
   ],
   "source": [
    "\n",
    "print \"Epochs :100 , Nodes 20 : \", metrics.accuracy_score(y_true= y_s2,y_pred= y_hat) "
   ]
  },
  {
   "cell_type": "code",
   "execution_count": null,
   "metadata": {
    "collapsed": true
   },
   "outputs": [],
   "source": []
  }
 ],
 "metadata": {
  "celltoolbar": "Raw Cell Format",
  "kernelspec": {
   "display_name": "Python 2",
   "language": "python",
   "name": "python2"
  },
  "language_info": {
   "codemirror_mode": {
    "name": "ipython",
    "version": 2
   },
   "file_extension": ".py",
   "mimetype": "text/x-python",
   "name": "python",
   "nbconvert_exporter": "python",
   "pygments_lexer": "ipython2",
   "version": "2.7.10"
  }
 },
 "nbformat": 4,
 "nbformat_minor": 0
}
